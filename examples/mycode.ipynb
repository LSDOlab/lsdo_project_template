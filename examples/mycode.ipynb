{
 "cells": [
  {
   "cell_type": "code",
   "execution_count": null,
   "metadata": {},
   "outputs": [
    {
     "ename": "",
     "evalue": "",
     "output_type": "error",
     "traceback": [
      "\u001b[1;31mRunning cells with 'venv' requires the ipykernel package.\n",
      "\u001b[1;31mRun the following command to install 'ipykernel' into the Python environment. \n",
      "\u001b[1;31mCommand: '/Users/anugrah/Packages/lsdo_project_template/venv/bin/python -m pip install ipykernel -U --force-reinstall'"
     ]
    }
   ],
   "source": [
    "%load ex_1quartic_opt_csdl.py"
   ]
  },
  {
   "cell_type": "code",
   "execution_count": 1,
   "metadata": {},
   "outputs": [],
   "source": [
    "# %load ex_1quartic_opt_csdl.py\n",
    "from csdl import Model\n",
    "\n",
    "# minimize x^4 + y^4 subject to x>=0, x+y=1, x-y>=1.\n",
    "\n",
    "class QuadraticFunc(Model):\n",
    "    def initialize(self):\n",
    "        pass\n",
    "\n",
    "    def define(self):\n",
    "        # add_inputs\n",
    "        x = self.create_input('x', val=1.)\n",
    "        y = self.create_input('y', val=1.)\n",
    "\n",
    "        z = x**4 + y**4\n",
    "\n",
    "        # add_outputs\n",
    "        self.register_output('z', z)\n",
    "\n",
    "        constraint_1 = x + y\n",
    "        constraint_2 = x - y\n",
    "        self.register_output('constraint_1', constraint_1)\n",
    "        self.register_output('constraint_2', constraint_2)\n",
    "\n",
    "        # define optimization problem\n",
    "        self.add_design_variable('x', lower=0.)\n",
    "        self.add_design_variable('y')\n",
    "        self.add_objective('z')\n",
    "        self.add_constraint('constraint_1', equals=1.)\n",
    "        self.add_constraint('constraint_2', lower=1.)\n",
    "\n",
    "\n",
    "if __name__ == \"__main__\":\n",
    "    # from csdl_om import Simulator\n",
    "    from python_csdl_backend import Simulator\n",
    "\n",
    "    # Create a Simulator object for your model\n",
    "    sim = Simulator(QuadraticFunc())\n",
    "\n",
    "    from modopt.csdl_library import CSDLProblem\n",
    "\n",
    "    # Instantiate your problem using the csdl Simulator object and name your problem\n",
    "    prob = CSDLProblem(problem_name='quartic',simulator=sim)\n",
    "\n",
    "    from modopt.optimization_algorithms import SQP\n",
    "    from modopt.scipy_library import SLSQP\n",
    "    from modopt.snopt_library import SNOPT\n",
    "\n",
    "    # Setup your preferred optimizer (here, SLSQP) with the Problem object \n",
    "    # Pass in the options for your chosen optimizer\n",
    "    # optimizer = SLSQP(prob, ftol=1e-6, maxiter=20,outputs=['x'])\n",
    "    # optimizer = SQP(prob, max_itr=20)\n",
    "    optimizer = SNOPT(prob, Infinite_bound=1.0e20, Verify_level=3, Verbose=True)\n",
    "\n",
    "    # Check first derivatives at the initial guess, if needed\n",
    "    # optimizer.check_first_derivatives(prob.x0)\n",
    "    # sim.run()\n",
    "    # sim.check_totals()\n",
    "\n",
    "    # Solve your optimization problem\n",
    "    optimizer.solve()\n",
    "\n",
    "    # Print results of optimization (summary_table contains information from each iteration)\n",
    "    optimizer.print_results(summary_table=True)\n",
    "\n",
    "    print(sim['x'])\n",
    "    print(sim['y'])\n",
    "    print(sim['z'])\n"
   ]
  },
  {
   "cell_type": "code",
   "execution_count": 2,
   "metadata": {},
   "outputs": [
    {
     "name": "stdout",
     "output_type": "stream",
     "text": [
      "Requirement already satisfied: jupytext in /opt/anaconda3/lib/python3.9/site-packages (1.10.3)\n",
      "Collecting markdown-it-py~=0.6.0\n",
      "  Using cached markdown_it_py-0.6.2-py3-none-any.whl (81 kB)\n",
      "Requirement already satisfied: toml in /opt/anaconda3/lib/python3.9/site-packages (from jupytext) (0.10.2)\n",
      "Requirement already satisfied: nbformat in /opt/anaconda3/lib/python3.9/site-packages (from jupytext) (5.5.0)\n",
      "Requirement already satisfied: pyyaml in /opt/anaconda3/lib/python3.9/site-packages (from jupytext) (6.0)\n",
      "Collecting mdit-py-plugins~=0.2.1\n",
      "  Using cached mdit_py_plugins-0.2.8-py3-none-any.whl (41 kB)\n",
      "Requirement already satisfied: attrs<21,>=19 in /opt/anaconda3/lib/python3.9/site-packages (from markdown-it-py~=0.6.0->jupytext) (20.3.0)\n",
      "Requirement already satisfied: fastjsonschema in /opt/anaconda3/lib/python3.9/site-packages (from nbformat->jupytext) (2.16.2)\n",
      "Requirement already satisfied: jupyter_core in /opt/anaconda3/lib/python3.9/site-packages (from nbformat->jupytext) (4.11.1)\n",
      "Requirement already satisfied: jsonschema>=2.6 in /opt/anaconda3/lib/python3.9/site-packages (from nbformat->jupytext) (4.16.0)\n",
      "Requirement already satisfied: traitlets>=5.1 in /opt/anaconda3/lib/python3.9/site-packages (from nbformat->jupytext) (5.1.1)\n",
      "Requirement already satisfied: pyrsistent!=0.17.0,!=0.17.1,!=0.17.2,>=0.14.0 in /opt/anaconda3/lib/python3.9/site-packages (from jsonschema>=2.6->nbformat->jupytext) (0.18.0)\n",
      "  Using cached mdit_py_plugins-0.2.7-py3-none-any.whl (41 kB)\n",
      "  Using cached mdit_py_plugins-0.2.6-py3-none-any.whl (39 kB)\n",
      "Installing collected packages: mdit-py-plugins, markdown-it-py\n",
      "  Attempting uninstall: mdit-py-plugins\n",
      "    Found existing installation: mdit-py-plugins 0.3.3\n",
      "    Uninstalling mdit-py-plugins-0.3.3:\n",
      "      Successfully uninstalled mdit-py-plugins-0.3.3\n",
      "  Attempting uninstall: markdown-it-py\n",
      "    Found existing installation: markdown-it-py 2.1.0\n",
      "    Uninstalling markdown-it-py-2.1.0:\n",
      "      Successfully uninstalled markdown-it-py-2.1.0\n",
      "\u001b[31mERROR: pip's dependency resolver does not currently take into account all the packages that are installed. This behaviour is the source of the following dependency conflicts.\n",
      "myst-parser 0.18.1 requires markdown-it-py<3.0.0,>=1.0.0, but you have markdown-it-py 0.6.2 which is incompatible.\n",
      "myst-parser 0.18.1 requires mdit-py-plugins~=0.3.1, but you have mdit-py-plugins 0.2.6 which is incompatible.\n",
      "jupyter-book 0.11.3 requires myst-nb~=0.12.0, but you have myst-nb 0.17.1 which is incompatible.\n",
      "jupyter-book 0.11.3 requires sphinx<4,>=2, but you have sphinx 5.3.0 which is incompatible.\u001b[0m\u001b[31m\n",
      "\u001b[0mSuccessfully installed markdown-it-py-0.6.2 mdit-py-plugins-0.2.6\n",
      "Note: you may need to restart the kernel to use updated packages.\n",
      "[jupytext] Reading ex_1quartic_opt_csdl.py in format py\n",
      "[jupytext] Writing ex_1quartic_opt_csdl.ipynb\n"
     ]
    }
   ],
   "source": [
    "%pip install jupytext\n",
    "!jupytext --to notebook ex_1quartic_opt_csdl.py"
   ]
  }
 ],
 "metadata": {
  "kernelspec": {
   "display_name": "venv",
   "language": "python",
   "name": "python3"
  },
  "language_info": {
   "codemirror_mode": {
    "name": "ipython",
    "version": 3
   },
   "file_extension": ".py",
   "mimetype": "text/x-python",
   "name": "python",
   "nbconvert_exporter": "python",
   "pygments_lexer": "ipython3",
   "version": "3.9.13"
  },
  "orig_nbformat": 4
 },
 "nbformat": 4,
 "nbformat_minor": 2
}
